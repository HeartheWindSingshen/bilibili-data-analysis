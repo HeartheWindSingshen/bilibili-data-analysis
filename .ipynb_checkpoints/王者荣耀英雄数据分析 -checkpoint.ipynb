{
 "cells": [
  {
   "cell_type": "markdown",
   "metadata": {},
   "source": [
    "# 王者荣耀数据分析"
   ]
  },
  {
   "cell_type": "markdown",
   "metadata": {},
   "source": [
    "申彤 202018150189\n",
    "杨安恺 202000190244"
   ]
  },
  {
   "cell_type": "markdown",
   "metadata": {},
   "source": [
    "王者荣耀作为一款炙手可热的手游风靡全国，其中包含了一百多位角色，分为了5个不同的位置。为了帮助新手玩家更好地了解这款手游，我们利用kmeans算法对不同的角色进行聚类，以方便诸位新玩家对不同英雄的定位有所了解。"
   ]
  },
  {
   "cell_type": "markdown",
   "metadata": {},
   "source": [
    "# 数据的处理"
   ]
  },
  {
   "cell_type": "code",
   "execution_count": 2,
   "metadata": {
    "id": "FE5D3B5F81964636AD4F11576C66B022",
    "jupyter": {
     "outputs_hidden": false
    },
    "slideshow": {
     "slide_type": "slide"
    },
    "tags": []
   },
   "outputs": [],
   "source": [
    "import pandas as pd\n",
    "import numpy as np\n",
    "import matplotlib.pyplot as plt\n",
    "%matplotlib inline\n",
    "import seaborn as sns\n",
    "sns.set(style=\"white\")\n",
    "sns.set_style('whitegrid',{'font.sans-serif':['simhei','Arial']})\n",
    "import warnings\n",
    "from sklearn.preprocessing import StandardScaler, LabelEncoder\n",
    "\n",
    "warnings.filterwarnings('ignore')\n",
    "plt.rcParams['font.sans-serif']=['SimHei'] #用来正常显示中文标签\n",
    "# plt.rcParams['font.sans-serif'] = ['STFangsong']\n",
    "plt.rcParams['axes.unicode_minus'] = False\n",
    "# plt.rcParams['font.sans-serif'] = ['Microsoft YaHei']"
   ]
  },
  {
   "cell_type": "code",
   "execution_count": 3,
   "metadata": {
    "id": "DAF25354577045729282AA75123E8B9D",
    "jupyter": {
     "outputs_hidden": false
    },
    "slideshow": {
     "slide_type": "slide"
    },
    "tags": []
   },
   "outputs": [],
   "source": [
    "df = pd.read_csv('heros.csv')"
   ]
  },
  {
   "cell_type": "code",
   "execution_count": 4,
   "metadata": {
    "id": "E502E8335432432D886173D93C3A4995",
    "jupyter": {
     "outputs_hidden": false
    },
    "slideshow": {
     "slide_type": "slide"
    },
    "tags": []
   },
   "outputs": [
    {
     "data": {
      "text/html": [
       "<div>\n",
       "<style scoped>\n",
       "    .dataframe tbody tr th:only-of-type {\n",
       "        vertical-align: middle;\n",
       "    }\n",
       "\n",
       "    .dataframe tbody tr th {\n",
       "        vertical-align: top;\n",
       "    }\n",
       "\n",
       "    .dataframe thead th {\n",
       "        text-align: right;\n",
       "    }\n",
       "</style>\n",
       "<table border=\"1\" class=\"dataframe\">\n",
       "  <thead>\n",
       "    <tr style=\"text-align: right;\">\n",
       "      <th></th>\n",
       "      <th>英雄</th>\n",
       "      <th>最大生命</th>\n",
       "      <th>生命成长</th>\n",
       "      <th>初始生命</th>\n",
       "      <th>最大法力</th>\n",
       "      <th>法力成长</th>\n",
       "      <th>初始法力</th>\n",
       "      <th>最高物攻</th>\n",
       "      <th>物攻成长</th>\n",
       "      <th>初始物攻</th>\n",
       "      <th>...</th>\n",
       "      <th>最大每5秒回血</th>\n",
       "      <th>每5秒回血成长</th>\n",
       "      <th>初始每5秒回血</th>\n",
       "      <th>最大每5秒回蓝</th>\n",
       "      <th>每5秒回蓝成长</th>\n",
       "      <th>初始每5秒回蓝</th>\n",
       "      <th>最大攻速</th>\n",
       "      <th>攻击范围</th>\n",
       "      <th>主要定位</th>\n",
       "      <th>次要定位</th>\n",
       "    </tr>\n",
       "  </thead>\n",
       "  <tbody>\n",
       "    <tr>\n",
       "      <th>0</th>\n",
       "      <td>夏侯惇</td>\n",
       "      <td>7350</td>\n",
       "      <td>288.8</td>\n",
       "      <td>3307</td>\n",
       "      <td>1746</td>\n",
       "      <td>94</td>\n",
       "      <td>430</td>\n",
       "      <td>321</td>\n",
       "      <td>11.570</td>\n",
       "      <td>159</td>\n",
       "      <td>...</td>\n",
       "      <td>98</td>\n",
       "      <td>3.357</td>\n",
       "      <td>51</td>\n",
       "      <td>37</td>\n",
       "      <td>1.571</td>\n",
       "      <td>15</td>\n",
       "      <td>28.00%</td>\n",
       "      <td>近战</td>\n",
       "      <td>坦克</td>\n",
       "      <td>战士</td>\n",
       "    </tr>\n",
       "    <tr>\n",
       "      <th>1</th>\n",
       "      <td>钟无艳</td>\n",
       "      <td>7000</td>\n",
       "      <td>275.0</td>\n",
       "      <td>3150</td>\n",
       "      <td>1760</td>\n",
       "      <td>95</td>\n",
       "      <td>430</td>\n",
       "      <td>318</td>\n",
       "      <td>11.000</td>\n",
       "      <td>164</td>\n",
       "      <td>...</td>\n",
       "      <td>92</td>\n",
       "      <td>3.143</td>\n",
       "      <td>48</td>\n",
       "      <td>37</td>\n",
       "      <td>1.571</td>\n",
       "      <td>15</td>\n",
       "      <td>14.00%</td>\n",
       "      <td>近战</td>\n",
       "      <td>战士</td>\n",
       "      <td>坦克</td>\n",
       "    </tr>\n",
       "    <tr>\n",
       "      <th>2</th>\n",
       "      <td>张飞</td>\n",
       "      <td>8341</td>\n",
       "      <td>329.4</td>\n",
       "      <td>3450</td>\n",
       "      <td>100</td>\n",
       "      <td>0</td>\n",
       "      <td>100</td>\n",
       "      <td>301</td>\n",
       "      <td>10.570</td>\n",
       "      <td>153</td>\n",
       "      <td>...</td>\n",
       "      <td>115</td>\n",
       "      <td>4.143</td>\n",
       "      <td>57</td>\n",
       "      <td>5</td>\n",
       "      <td>0.000</td>\n",
       "      <td>5</td>\n",
       "      <td>14.00%</td>\n",
       "      <td>近战</td>\n",
       "      <td>坦克</td>\n",
       "      <td>辅助</td>\n",
       "    </tr>\n",
       "    <tr>\n",
       "      <th>3</th>\n",
       "      <td>牛魔</td>\n",
       "      <td>8476</td>\n",
       "      <td>352.8</td>\n",
       "      <td>3537</td>\n",
       "      <td>1926</td>\n",
       "      <td>104</td>\n",
       "      <td>470</td>\n",
       "      <td>273</td>\n",
       "      <td>8.357</td>\n",
       "      <td>156</td>\n",
       "      <td>...</td>\n",
       "      <td>117</td>\n",
       "      <td>4.214</td>\n",
       "      <td>58</td>\n",
       "      <td>42</td>\n",
       "      <td>1.786</td>\n",
       "      <td>17</td>\n",
       "      <td>14.00%</td>\n",
       "      <td>近战</td>\n",
       "      <td>坦克</td>\n",
       "      <td>辅助</td>\n",
       "    </tr>\n",
       "    <tr>\n",
       "      <th>4</th>\n",
       "      <td>吕布</td>\n",
       "      <td>7344</td>\n",
       "      <td>270.0</td>\n",
       "      <td>3564</td>\n",
       "      <td>0</td>\n",
       "      <td>0</td>\n",
       "      <td>0</td>\n",
       "      <td>343</td>\n",
       "      <td>12.360</td>\n",
       "      <td>170</td>\n",
       "      <td>...</td>\n",
       "      <td>97</td>\n",
       "      <td>3.071</td>\n",
       "      <td>54</td>\n",
       "      <td>0</td>\n",
       "      <td>0.000</td>\n",
       "      <td>0</td>\n",
       "      <td>14.00%</td>\n",
       "      <td>近战</td>\n",
       "      <td>战士</td>\n",
       "      <td>坦克</td>\n",
       "    </tr>\n",
       "  </tbody>\n",
       "</table>\n",
       "<p>5 rows × 23 columns</p>\n",
       "</div>"
      ],
      "text/plain": [
       "    英雄  最大生命   生命成长  初始生命  最大法力  法力成长  初始法力  最高物攻    物攻成长  初始物攻  ...  最大每5秒回血  \\\n",
       "0  夏侯惇  7350  288.8  3307  1746    94   430   321  11.570   159  ...       98   \n",
       "1  钟无艳  7000  275.0  3150  1760    95   430   318  11.000   164  ...       92   \n",
       "2   张飞  8341  329.4  3450   100     0   100   301  10.570   153  ...      115   \n",
       "3   牛魔  8476  352.8  3537  1926   104   470   273   8.357   156  ...      117   \n",
       "4   吕布  7344  270.0  3564     0     0     0   343  12.360   170  ...       97   \n",
       "\n",
       "   每5秒回血成长  初始每5秒回血  最大每5秒回蓝  每5秒回蓝成长  初始每5秒回蓝    最大攻速  攻击范围  主要定位 次要定位  \n",
       "0    3.357       51       37    1.571       15  28.00%    近战    坦克   战士  \n",
       "1    3.143       48       37    1.571       15  14.00%    近战    战士   坦克  \n",
       "2    4.143       57        5    0.000        5  14.00%    近战    坦克   辅助  \n",
       "3    4.214       58       42    1.786       17  14.00%    近战    坦克   辅助  \n",
       "4    3.071       54        0    0.000        0  14.00%    近战    战士   坦克  \n",
       "\n",
       "[5 rows x 23 columns]"
      ]
     },
     "execution_count": 4,
     "metadata": {},
     "output_type": "execute_result"
    }
   ],
   "source": [
    "df.head()"
   ]
  },
  {
   "cell_type": "markdown",
   "metadata": {
    "id": "2BE182272BFF457091941120EF51DB74",
    "jupyter": {},
    "mdEditEnable": false,
    "slideshow": {
     "slide_type": "slide"
    },
    "tags": []
   },
   "source": [
    "绝大多数变量都是数值型变量，除了第1个和最后4个变量。为了更好的进行聚类，我们将最大攻速也转化为数值型。"
   ]
  },
  {
   "cell_type": "code",
   "execution_count": 5,
   "metadata": {
    "id": "EAC5AF480C3A49A0874420D8EF222BD6",
    "jupyter": {
     "outputs_hidden": false
    },
    "slideshow": {
     "slide_type": "slide"
    },
    "tags": []
   },
   "outputs": [
    {
     "name": "stdout",
     "output_type": "stream",
     "text": [
      "<class 'pandas.core.frame.DataFrame'>\n",
      "RangeIndex: 69 entries, 0 to 68\n",
      "Data columns (total 23 columns):\n",
      " #   Column   Non-Null Count  Dtype  \n",
      "---  ------   --------------  -----  \n",
      " 0   英雄       69 non-null     object \n",
      " 1   最大生命     69 non-null     int64  \n",
      " 2   生命成长     69 non-null     float64\n",
      " 3   初始生命     69 non-null     int64  \n",
      " 4   最大法力     69 non-null     int64  \n",
      " 5   法力成长     69 non-null     int64  \n",
      " 6   初始法力     69 non-null     int64  \n",
      " 7   最高物攻     69 non-null     int64  \n",
      " 8   物攻成长     69 non-null     float64\n",
      " 9   初始物攻     69 non-null     int64  \n",
      " 10  最大物防     69 non-null     int64  \n",
      " 11  物防成长     69 non-null     float64\n",
      " 12  初始物防     69 non-null     int64  \n",
      " 13  最大每5秒回血  69 non-null     int64  \n",
      " 14  每5秒回血成长  69 non-null     float64\n",
      " 15  初始每5秒回血  69 non-null     int64  \n",
      " 16  最大每5秒回蓝  69 non-null     int64  \n",
      " 17  每5秒回蓝成长  69 non-null     float64\n",
      " 18  初始每5秒回蓝  69 non-null     int64  \n",
      " 19  最大攻速     69 non-null     object \n",
      " 20  攻击范围     69 non-null     object \n",
      " 21  主要定位     69 non-null     object \n",
      " 22  次要定位     29 non-null     object \n",
      "dtypes: float64(5), int64(13), object(5)\n",
      "memory usage: 12.5+ KB\n"
     ]
    }
   ],
   "source": [
    "df.info()"
   ]
  },
  {
   "cell_type": "code",
   "execution_count": 6,
   "metadata": {
    "id": "1F51285C2171479B9227EBAC5E3436E0",
    "jupyter": {
     "outputs_hidden": false
    },
    "slideshow": {
     "slide_type": "slide"
    },
    "tags": []
   },
   "outputs": [],
   "source": [
    "target = df[[\"英雄\", \"主要定位\", \"次要定位\"]]"
   ]
  },
  {
   "cell_type": "code",
   "execution_count": 7,
   "metadata": {
    "id": "EDFE25E41B3644DF809AFDC1305902FF",
    "jupyter": {
     "outputs_hidden": false
    },
    "slideshow": {
     "slide_type": "slide"
    },
    "tags": []
   },
   "outputs": [],
   "source": [
    "df = df.drop(['次要定位', '英雄', '主要定位'], axis=1)"
   ]
  },
  {
   "cell_type": "code",
   "execution_count": 8,
   "metadata": {
    "id": "9359B7684B7D41BA9E8AD1BEBE9CC26B",
    "jupyter": {
     "outputs_hidden": false
    },
    "slideshow": {
     "slide_type": "slide"
    },
    "tags": []
   },
   "outputs": [],
   "source": [
    "df['最大攻速'] = [float(x[:-1])*0.01 for x in df['最大攻速']]"
   ]
  },
  {
   "cell_type": "markdown",
   "metadata": {},
   "source": [
    "# 变量间的相关性"
   ]
  },
  {
   "cell_type": "markdown",
   "metadata": {
    "id": "671B17CEDD6E451686C2E9771874355C",
    "jupyter": {},
    "mdEditEnable": false,
    "slideshow": {
     "slide_type": "slide"
    },
    "tags": []
   },
   "source": [
    "不同定位的英雄在某些变量之间呈现出明显的相关性。利用这种性质，我们可以更好的判断英雄定位。\n",
    "\n",
    "接下来我们查看变量之间的相关性。可以看到我们大致可以将变量分为两大类，一类是物防和血量，一类是法力。\n",
    "\n",
    "第一类变量包括：最大生命值、生命成长、初始生命、最大物防、物防成长、初始物防、最大每5秒回血、每5秒回血成长和初始每5秒回血，且这些变量之前有较强的相关性。\n",
    "\n",
    "第二类变量包括：最大法力、法力成长、初始法力、最大每5秒回蓝、每5秒回蓝成长和初始每5秒回蓝。这些变量之间也有较强的相关性。\n",
    "\n",
    "同时，我们可以看到攻速与最高物攻、物攻成长之间有一定的相关性。攻击范围也有上面两大类变量有关。"
   ]
  },
  {
   "cell_type": "code",
   "execution_count": 9,
   "metadata": {
    "id": "CDB4487F28154C9A9BE7AD028F88C619",
    "jupyter": {
     "outputs_hidden": false
    },
    "slideshow": {
     "slide_type": "slide"
    },
    "tags": []
   },
   "outputs": [],
   "source": [
    "df['攻击范围'] = LabelEncoder().fit_transform(df['攻击范围'])"
   ]
  },
  {
   "cell_type": "code",
   "execution_count": 10,
   "metadata": {
    "id": "A0B8F996F0AE4AFA97A9A718FAC62623",
    "jupyter": {
     "outputs_hidden": false
    },
    "slideshow": {
     "slide_type": "slide"
    },
    "tags": []
   },
   "outputs": [
    {
     "data": {
      "text/plain": [
       "<AxesSubplot:>"
      ]
     },
     "execution_count": 10,
     "metadata": {},
     "output_type": "execute_result"
    },
    {
     "data": {
      "image/png": "[encoded data removed]",
      "text/plain": [
       "<Figure size 1440x1080 with 2 Axes>"
      ]
     },
     "metadata": {},
     "output_type": "display_data"
    }
   ],
   "source": [
    "corr = df.corr()\n",
    "f, ax = plt.subplots(figsize=(20, 15))\n",
    "cmap = sns.diverging_palette(200, 5, as_cmap=True)\n",
    "sns.heatmap(corr, cmap=cmap)"
   ]
  },
  {
   "cell_type": "code",
   "execution_count": 11,
   "metadata": {
    "id": "170302EDDF104460A3BA64B44755E55E",
    "jupyter": {
     "outputs_hidden": false
    },
    "slideshow": {
     "slide_type": "slide"
    },
    "tags": []
   },
   "outputs": [
    {
     "data": {
      "image/png": "[encoded data removed]",
      "text/plain": [
       "<Figure size 1440x1440 with 20 Axes>"
      ]
     },
     "metadata": {},
     "output_type": "display_data"
    }
   ],
   "source": [
    "f=plt.figure(figsize=(20,20))\n",
    "for i, col in enumerate(df.columns):\n",
    "    ax=f.add_subplot(7,3,i+1)\n",
    "    sns.distplot(df[col].ffill(),kde=False)\n",
    "    ax.set_title(col+\" Distribution\",color='Blue')\n",
    "    plt.ylabel('Distribution')\n",
    "f.tight_layout()"
   ]
  },
  {
   "cell_type": "markdown",
   "metadata": {},
   "source": [
    "# 对英雄进行分类"
   ]
  },
  {
   "cell_type": "code",
   "execution_count": 12,
   "metadata": {
    "id": "4C431D7B95AB4F3D81914000644CA5CB",
    "jupyter": {
     "outputs_hidden": false
    },
    "slideshow": {
     "slide_type": "slide"
    },
    "tags": []
   },
   "outputs": [
    {
     "data": {
      "text/plain": [
       "array(['坦克', '战士', '法师', '辅助', '射手', '刺客'], dtype=object)"
      ]
     },
     "execution_count": 12,
     "metadata": {},
     "output_type": "execute_result"
    }
   ],
   "source": [
    "target['主要定位'].unique()"
   ]
  },
  {
   "cell_type": "code",
   "execution_count": 13,
   "metadata": {
    "id": "0E4ACC58674443B381DAB20BC564048B",
    "jupyter": {
     "outputs_hidden": false
    },
    "slideshow": {
     "slide_type": "slide"
    },
    "tags": []
   },
   "outputs": [],
   "source": [
    "target.loc[target['主要定位']=='战士', '主要定位'] = '坦克'\n",
    "target.loc[target['次要定位']=='战士', '次要定位'] = '坦克'"
   ]
  },
  {
   "cell_type": "markdown",
   "metadata": {
    "id": "D61EA9140303402B8A4D6E09DC25761D",
    "jupyter": {},
    "mdEditEnable": false,
    "slideshow": {
     "slide_type": "slide"
    },
    "tags": []
   },
   "source": [
    "就主要定位而言，英雄的分类主要有6种。我们将战士和坦克进行合并。"
   ]
  },
  {
   "cell_type": "code",
   "execution_count": 14,
   "metadata": {
    "id": "F4E9D90B9B5D4E0E890F7731D0927C0D",
    "jupyter": {
     "outputs_hidden": false
    },
    "slideshow": {
     "slide_type": "slide"
    },
    "tags": []
   },
   "outputs": [],
   "source": [
    "scaler = StandardScaler()\n",
    "scaler_df = scaler.fit_transform(df)"
   ]
  },
  {
   "cell_type": "code",
   "execution_count": 18,
   "metadata": {
    "id": "93D7A1B89FE546A28D908FA1BE1679D2",
    "jupyter": {
     "outputs_hidden": false
    },
    "slideshow": {
     "slide_type": "slide"
    },
    "tags": []
   },
   "outputs": [],
   "source": [
    "from sklearn.cluster import KMeans\n",
    "km = KMeans(n_clusters=5, random_state=0)\n",
    "km.fit(scaler_df)\n",
    "cluster_label = km.labels_"
   ]
  },
  {
   "cell_type": "code",
   "execution_count": 19,
   "metadata": {
    "id": "86B87FBD5C394528B30506C537CED322",
    "jupyter": {
     "outputs_hidden": false
    },
    "slideshow": {
     "slide_type": "slide"
    },
    "tags": []
   },
   "outputs": [
    {
     "data": {
      "text/plain": [
       "array([2, 2, 4, 4, 1, 1, 1, 4, 4, 2, 4, 2, 4, 2, 4, 4, 2, 4, 1, 3, 3, 3,\n",
       "       3, 3, 3, 3, 3, 3, 0, 0, 2, 0, 0, 0, 0, 0, 0, 0, 0, 2, 0, 0, 0, 0,\n",
       "       0, 0, 2, 0, 2, 0, 1, 2, 1, 2, 3, 2, 2, 2, 2, 1, 2, 1, 1, 2, 1, 2,\n",
       "       2, 2, 3])"
      ]
     },
     "execution_count": 19,
     "metadata": {},
     "output_type": "execute_result"
    }
   ],
   "source": [
    "cluster_label"
   ]
  },
  {
   "cell_type": "code",
   "execution_count": 20,
   "metadata": {
    "id": "0895B84D84404C038FE20112B52183DD",
    "jupyter": {
     "outputs_hidden": false
    },
    "slideshow": {
     "slide_type": "slide"
    },
    "tags": []
   },
   "outputs": [],
   "source": [
    "target['预测定位'] = cluster_label"
   ]
  },
  {
   "cell_type": "markdown",
   "metadata": {
    "id": "D3AD5FFAD9604345A93F9FE366BF8537",
    "jupyter": {},
    "mdEditEnable": false,
    "slideshow": {
     "slide_type": "slide"
    },
    "tags": []
   },
   "source": [
    "下面我们逐个查看主要定位。首先看射手，可以看到射手的预测结果都为3，非常准确。可能是射手的特征比较突出。"
   ]
  },
  {
   "cell_type": "code",
   "execution_count": 21,
   "metadata": {
    "id": "1C3E40F74DBA4E56B4CC188800BA0455",
    "jupyter": {
     "outputs_hidden": false
    },
    "slideshow": {
     "slide_type": "slide"
    },
    "tags": []
   },
   "outputs": [
    {
     "data": {
      "text/html": [
       "<div>\n",
       "<style scoped>\n",
       "    .dataframe tbody tr th:only-of-type {\n",
       "        vertical-align: middle;\n",
       "    }\n",
       "\n",
       "    .dataframe tbody tr th {\n",
       "        vertical-align: top;\n",
       "    }\n",
       "\n",
       "    .dataframe thead th {\n",
       "        text-align: right;\n",
       "    }\n",
       "</style>\n",
       "<table border=\"1\" class=\"dataframe\">\n",
       "  <thead>\n",
       "    <tr style=\"text-align: right;\">\n",
       "      <th></th>\n",
       "      <th>英雄</th>\n",
       "      <th>主要定位</th>\n",
       "      <th>次要定位</th>\n",
       "      <th>预测定位</th>\n",
       "    </tr>\n",
       "  </thead>\n",
       "  <tbody>\n",
       "    <tr>\n",
       "      <th>19</th>\n",
       "      <td>后羿</td>\n",
       "      <td>射手</td>\n",
       "      <td>NaN</td>\n",
       "      <td>3</td>\n",
       "    </tr>\n",
       "    <tr>\n",
       "      <th>20</th>\n",
       "      <td>马可波罗</td>\n",
       "      <td>射手</td>\n",
       "      <td>NaN</td>\n",
       "      <td>3</td>\n",
       "    </tr>\n",
       "    <tr>\n",
       "      <th>21</th>\n",
       "      <td>鲁班七号</td>\n",
       "      <td>射手</td>\n",
       "      <td>NaN</td>\n",
       "      <td>3</td>\n",
       "    </tr>\n",
       "    <tr>\n",
       "      <th>22</th>\n",
       "      <td>李元芳</td>\n",
       "      <td>射手</td>\n",
       "      <td>NaN</td>\n",
       "      <td>3</td>\n",
       "    </tr>\n",
       "    <tr>\n",
       "      <th>23</th>\n",
       "      <td>孙尚香</td>\n",
       "      <td>射手</td>\n",
       "      <td>NaN</td>\n",
       "      <td>3</td>\n",
       "    </tr>\n",
       "    <tr>\n",
       "      <th>24</th>\n",
       "      <td>黄忠</td>\n",
       "      <td>射手</td>\n",
       "      <td>NaN</td>\n",
       "      <td>3</td>\n",
       "    </tr>\n",
       "    <tr>\n",
       "      <th>25</th>\n",
       "      <td>狄仁杰</td>\n",
       "      <td>射手</td>\n",
       "      <td>NaN</td>\n",
       "      <td>3</td>\n",
       "    </tr>\n",
       "    <tr>\n",
       "      <th>26</th>\n",
       "      <td>虞姬</td>\n",
       "      <td>射手</td>\n",
       "      <td>NaN</td>\n",
       "      <td>3</td>\n",
       "    </tr>\n",
       "    <tr>\n",
       "      <th>27</th>\n",
       "      <td>成吉思汗</td>\n",
       "      <td>射手</td>\n",
       "      <td>NaN</td>\n",
       "      <td>3</td>\n",
       "    </tr>\n",
       "    <tr>\n",
       "      <th>68</th>\n",
       "      <td>百里守约</td>\n",
       "      <td>射手</td>\n",
       "      <td>刺客</td>\n",
       "      <td>3</td>\n",
       "    </tr>\n",
       "  </tbody>\n",
       "</table>\n",
       "</div>"
      ],
      "text/plain": [
       "      英雄 主要定位 次要定位  预测定位\n",
       "19    后羿   射手  NaN     3\n",
       "20  马可波罗   射手  NaN     3\n",
       "21  鲁班七号   射手  NaN     3\n",
       "22   李元芳   射手  NaN     3\n",
       "23   孙尚香   射手  NaN     3\n",
       "24    黄忠   射手  NaN     3\n",
       "25   狄仁杰   射手  NaN     3\n",
       "26    虞姬   射手  NaN     3\n",
       "27  成吉思汗   射手  NaN     3\n",
       "68  百里守约   射手   刺客     3"
      ]
     },
     "execution_count": 21,
     "metadata": {},
     "output_type": "execute_result"
    }
   ],
   "source": [
    "target.loc[target['主要定位']=='射手', :]"
   ]
  },
  {
   "cell_type": "markdown",
   "metadata": {
    "id": "FCBB3B95736E406F99CD36957E6AEC4C",
    "jupyter": {},
    "mdEditEnable": false,
    "slideshow": {
     "slide_type": "slide"
    },
    "tags": []
   },
   "source": [
    "对于法师的定位，我们可以看到基本上都是准确的，少数几个不准确。芈月判为了1，墨子和钟馗判为了2。结合对游戏的了解，这几个英雄的定位较为模糊，墨子和钟馗有人玩法师，也有人玩辅助，也有人玩坦克。"
   ]
  },
  {
   "cell_type": "code",
   "execution_count": 22,
   "metadata": {
    "id": "6A4419EA7B764C0294B8336CF0D9F964",
    "jupyter": {
     "outputs_hidden": false
    },
    "slideshow": {
     "slide_type": "slide"
    },
    "tags": []
   },
   "outputs": [
    {
     "data": {
      "text/html": [
       "<div>\n",
       "<style scoped>\n",
       "    .dataframe tbody tr th:only-of-type {\n",
       "        vertical-align: middle;\n",
       "    }\n",
       "\n",
       "    .dataframe tbody tr th {\n",
       "        vertical-align: top;\n",
       "    }\n",
       "\n",
       "    .dataframe thead th {\n",
       "        text-align: right;\n",
       "    }\n",
       "</style>\n",
       "<table border=\"1\" class=\"dataframe\">\n",
       "  <thead>\n",
       "    <tr style=\"text-align: right;\">\n",
       "      <th></th>\n",
       "      <th>英雄</th>\n",
       "      <th>主要定位</th>\n",
       "      <th>次要定位</th>\n",
       "      <th>预测定位</th>\n",
       "    </tr>\n",
       "  </thead>\n",
       "  <tbody>\n",
       "    <tr>\n",
       "      <th>6</th>\n",
       "      <td>芈月</td>\n",
       "      <td>法师</td>\n",
       "      <td>坦克</td>\n",
       "      <td>1</td>\n",
       "    </tr>\n",
       "    <tr>\n",
       "      <th>16</th>\n",
       "      <td>墨子</td>\n",
       "      <td>法师</td>\n",
       "      <td>坦克</td>\n",
       "      <td>2</td>\n",
       "    </tr>\n",
       "    <tr>\n",
       "      <th>28</th>\n",
       "      <td>嬴政</td>\n",
       "      <td>法师</td>\n",
       "      <td>NaN</td>\n",
       "      <td>0</td>\n",
       "    </tr>\n",
       "    <tr>\n",
       "      <th>29</th>\n",
       "      <td>武则天</td>\n",
       "      <td>法师</td>\n",
       "      <td>NaN</td>\n",
       "      <td>0</td>\n",
       "    </tr>\n",
       "    <tr>\n",
       "      <th>31</th>\n",
       "      <td>甄姬</td>\n",
       "      <td>法师</td>\n",
       "      <td>NaN</td>\n",
       "      <td>0</td>\n",
       "    </tr>\n",
       "    <tr>\n",
       "      <th>32</th>\n",
       "      <td>妲己</td>\n",
       "      <td>法师</td>\n",
       "      <td>NaN</td>\n",
       "      <td>0</td>\n",
       "    </tr>\n",
       "    <tr>\n",
       "      <th>33</th>\n",
       "      <td>干将莫邪</td>\n",
       "      <td>法师</td>\n",
       "      <td>NaN</td>\n",
       "      <td>0</td>\n",
       "    </tr>\n",
       "    <tr>\n",
       "      <th>34</th>\n",
       "      <td>姜子牙</td>\n",
       "      <td>法师</td>\n",
       "      <td>辅助</td>\n",
       "      <td>0</td>\n",
       "    </tr>\n",
       "    <tr>\n",
       "      <th>35</th>\n",
       "      <td>王昭君</td>\n",
       "      <td>法师</td>\n",
       "      <td>NaN</td>\n",
       "      <td>0</td>\n",
       "    </tr>\n",
       "    <tr>\n",
       "      <th>36</th>\n",
       "      <td>诸葛亮</td>\n",
       "      <td>法师</td>\n",
       "      <td>NaN</td>\n",
       "      <td>0</td>\n",
       "    </tr>\n",
       "    <tr>\n",
       "      <th>37</th>\n",
       "      <td>不知火舞</td>\n",
       "      <td>法师</td>\n",
       "      <td>刺客</td>\n",
       "      <td>0</td>\n",
       "    </tr>\n",
       "    <tr>\n",
       "      <th>38</th>\n",
       "      <td>貂蝉</td>\n",
       "      <td>法师</td>\n",
       "      <td>刺客</td>\n",
       "      <td>0</td>\n",
       "    </tr>\n",
       "    <tr>\n",
       "      <th>40</th>\n",
       "      <td>安琪拉</td>\n",
       "      <td>法师</td>\n",
       "      <td>NaN</td>\n",
       "      <td>0</td>\n",
       "    </tr>\n",
       "    <tr>\n",
       "      <th>41</th>\n",
       "      <td>小乔</td>\n",
       "      <td>法师</td>\n",
       "      <td>NaN</td>\n",
       "      <td>0</td>\n",
       "    </tr>\n",
       "    <tr>\n",
       "      <th>42</th>\n",
       "      <td>周瑜</td>\n",
       "      <td>法师</td>\n",
       "      <td>NaN</td>\n",
       "      <td>0</td>\n",
       "    </tr>\n",
       "    <tr>\n",
       "      <th>43</th>\n",
       "      <td>张良</td>\n",
       "      <td>法师</td>\n",
       "      <td>NaN</td>\n",
       "      <td>0</td>\n",
       "    </tr>\n",
       "    <tr>\n",
       "      <th>44</th>\n",
       "      <td>高渐离</td>\n",
       "      <td>法师</td>\n",
       "      <td>NaN</td>\n",
       "      <td>0</td>\n",
       "    </tr>\n",
       "    <tr>\n",
       "      <th>45</th>\n",
       "      <td>扁鹊</td>\n",
       "      <td>法师</td>\n",
       "      <td>辅助</td>\n",
       "      <td>0</td>\n",
       "    </tr>\n",
       "    <tr>\n",
       "      <th>46</th>\n",
       "      <td>钟馗</td>\n",
       "      <td>法师</td>\n",
       "      <td>坦克</td>\n",
       "      <td>2</td>\n",
       "    </tr>\n",
       "  </tbody>\n",
       "</table>\n",
       "</div>"
      ],
      "text/plain": [
       "      英雄 主要定位 次要定位  预测定位\n",
       "6     芈月   法师   坦克     1\n",
       "16    墨子   法师   坦克     2\n",
       "28    嬴政   法师  NaN     0\n",
       "29   武则天   法师  NaN     0\n",
       "31    甄姬   法师  NaN     0\n",
       "32    妲己   法师  NaN     0\n",
       "33  干将莫邪   法师  NaN     0\n",
       "34   姜子牙   法师   辅助     0\n",
       "35   王昭君   法师  NaN     0\n",
       "36   诸葛亮   法师  NaN     0\n",
       "37  不知火舞   法师   刺客     0\n",
       "38    貂蝉   法师   刺客     0\n",
       "40   安琪拉   法师  NaN     0\n",
       "41    小乔   法师  NaN     0\n",
       "42    周瑜   法师  NaN     0\n",
       "43    张良   法师  NaN     0\n",
       "44   高渐离   法师  NaN     0\n",
       "45    扁鹊   法师   辅助     0\n",
       "46    钟馗   法师   坦克     2"
      ]
     },
     "execution_count": 22,
     "metadata": {},
     "output_type": "execute_result"
    }
   ],
   "source": [
    "target.loc[target['主要定位']=='法师', :]"
   ]
  },
  {
   "cell_type": "markdown",
   "metadata": {
    "id": "B7E9CDA513504E63AC0D8D3E192288A5",
    "jupyter": {},
    "mdEditEnable": false,
    "slideshow": {
     "slide_type": "slide"
    },
    "tags": []
   },
   "source": [
    "刺客的预测结果就较为混乱了，可能的原因是刺客的变量的特点较为模糊，与其他各个定位之间重叠的较多。"
   ]
  },
  {
   "cell_type": "code",
   "execution_count": 23,
   "metadata": {
    "id": "48EC895F8AEA46F6896F444EECC5C8DE",
    "jupyter": {
     "outputs_hidden": false
    },
    "slideshow": {
     "slide_type": "slide"
    },
    "tags": []
   },
   "outputs": [
    {
     "data": {
      "text/html": [
       "<div>\n",
       "<style scoped>\n",
       "    .dataframe tbody tr th:only-of-type {\n",
       "        vertical-align: middle;\n",
       "    }\n",
       "\n",
       "    .dataframe tbody tr th {\n",
       "        vertical-align: top;\n",
       "    }\n",
       "\n",
       "    .dataframe thead th {\n",
       "        text-align: right;\n",
       "    }\n",
       "</style>\n",
       "<table border=\"1\" class=\"dataframe\">\n",
       "  <thead>\n",
       "    <tr style=\"text-align: right;\">\n",
       "      <th></th>\n",
       "      <th>英雄</th>\n",
       "      <th>主要定位</th>\n",
       "      <th>次要定位</th>\n",
       "      <th>预测定位</th>\n",
       "    </tr>\n",
       "  </thead>\n",
       "  <tbody>\n",
       "    <tr>\n",
       "      <th>52</th>\n",
       "      <td>橘石京</td>\n",
       "      <td>刺客</td>\n",
       "      <td>坦克</td>\n",
       "      <td>1</td>\n",
       "    </tr>\n",
       "    <tr>\n",
       "      <th>53</th>\n",
       "      <td>李白</td>\n",
       "      <td>刺客</td>\n",
       "      <td>坦克</td>\n",
       "      <td>2</td>\n",
       "    </tr>\n",
       "    <tr>\n",
       "      <th>54</th>\n",
       "      <td>韩信</td>\n",
       "      <td>刺客</td>\n",
       "      <td>坦克</td>\n",
       "      <td>3</td>\n",
       "    </tr>\n",
       "    <tr>\n",
       "      <th>64</th>\n",
       "      <td>阿轲</td>\n",
       "      <td>刺客</td>\n",
       "      <td>NaN</td>\n",
       "      <td>1</td>\n",
       "    </tr>\n",
       "    <tr>\n",
       "      <th>65</th>\n",
       "      <td>娜可露露</td>\n",
       "      <td>刺客</td>\n",
       "      <td>NaN</td>\n",
       "      <td>2</td>\n",
       "    </tr>\n",
       "    <tr>\n",
       "      <th>66</th>\n",
       "      <td>兰陵王</td>\n",
       "      <td>刺客</td>\n",
       "      <td>NaN</td>\n",
       "      <td>2</td>\n",
       "    </tr>\n",
       "  </tbody>\n",
       "</table>\n",
       "</div>"
      ],
      "text/plain": [
       "      英雄 主要定位 次要定位  预测定位\n",
       "52   橘石京   刺客   坦克     1\n",
       "53    李白   刺客   坦克     2\n",
       "54    韩信   刺客   坦克     3\n",
       "64    阿轲   刺客  NaN     1\n",
       "65  娜可露露   刺客  NaN     2\n",
       "66   兰陵王   刺客  NaN     2"
      ]
     },
     "execution_count": 23,
     "metadata": {},
     "output_type": "execute_result"
    }
   ],
   "source": [
    "target.loc[target['主要定位']=='刺客', :]"
   ]
  },
  {
   "cell_type": "markdown",
   "metadata": {
    "id": "1FCE428E5D2D4337B29F6854D9D9A199",
    "jupyter": {},
    "mdEditEnable": false,
    "slideshow": {
     "slide_type": "slide"
    },
    "tags": []
   },
   "source": [
    "辅助和坦克的结果也较为模糊。"
   ]
  },
  {
   "cell_type": "code",
   "execution_count": 24,
   "metadata": {
    "id": "B76AC02A37504C828119033F3C6783A2",
    "jupyter": {
     "outputs_hidden": false
    },
    "slideshow": {
     "slide_type": "slide"
    },
    "tags": []
   },
   "outputs": [
    {
     "data": {
      "text/html": [
       "<div>\n",
       "<style scoped>\n",
       "    .dataframe tbody tr th:only-of-type {\n",
       "        vertical-align: middle;\n",
       "    }\n",
       "\n",
       "    .dataframe tbody tr th {\n",
       "        vertical-align: top;\n",
       "    }\n",
       "\n",
       "    .dataframe thead th {\n",
       "        text-align: right;\n",
       "    }\n",
       "</style>\n",
       "<table border=\"1\" class=\"dataframe\">\n",
       "  <thead>\n",
       "    <tr style=\"text-align: right;\">\n",
       "      <th></th>\n",
       "      <th>英雄</th>\n",
       "      <th>主要定位</th>\n",
       "      <th>次要定位</th>\n",
       "      <th>预测定位</th>\n",
       "    </tr>\n",
       "  </thead>\n",
       "  <tbody>\n",
       "    <tr>\n",
       "      <th>10</th>\n",
       "      <td>庄周</td>\n",
       "      <td>辅助</td>\n",
       "      <td>坦克</td>\n",
       "      <td>4</td>\n",
       "    </tr>\n",
       "    <tr>\n",
       "      <th>11</th>\n",
       "      <td>太乙真人</td>\n",
       "      <td>辅助</td>\n",
       "      <td>坦克</td>\n",
       "      <td>2</td>\n",
       "    </tr>\n",
       "    <tr>\n",
       "      <th>39</th>\n",
       "      <td>孙膑</td>\n",
       "      <td>辅助</td>\n",
       "      <td>法师</td>\n",
       "      <td>2</td>\n",
       "    </tr>\n",
       "    <tr>\n",
       "      <th>47</th>\n",
       "      <td>大乔</td>\n",
       "      <td>辅助</td>\n",
       "      <td>NaN</td>\n",
       "      <td>0</td>\n",
       "    </tr>\n",
       "    <tr>\n",
       "      <th>48</th>\n",
       "      <td>鬼谷子</td>\n",
       "      <td>辅助</td>\n",
       "      <td>NaN</td>\n",
       "      <td>2</td>\n",
       "    </tr>\n",
       "    <tr>\n",
       "      <th>49</th>\n",
       "      <td>蔡文姬</td>\n",
       "      <td>辅助</td>\n",
       "      <td>NaN</td>\n",
       "      <td>0</td>\n",
       "    </tr>\n",
       "  </tbody>\n",
       "</table>\n",
       "</div>"
      ],
      "text/plain": [
       "      英雄 主要定位 次要定位  预测定位\n",
       "10    庄周   辅助   坦克     4\n",
       "11  太乙真人   辅助   坦克     2\n",
       "39    孙膑   辅助   法师     2\n",
       "47    大乔   辅助  NaN     0\n",
       "48   鬼谷子   辅助  NaN     2\n",
       "49   蔡文姬   辅助  NaN     0"
      ]
     },
     "execution_count": 24,
     "metadata": {},
     "output_type": "execute_result"
    }
   ],
   "source": [
    "target.loc[target['主要定位']=='辅助', :]"
   ]
  },
  {
   "cell_type": "code",
   "execution_count": 25,
   "metadata": {
    "id": "FDBE5C14AE824D8798EC7B883D3571A5",
    "jupyter": {
     "outputs_hidden": false
    },
    "slideshow": {
     "slide_type": "slide"
    },
    "tags": []
   },
   "outputs": [
    {
     "data": {
      "text/html": [
       "<div>\n",
       "<style scoped>\n",
       "    .dataframe tbody tr th:only-of-type {\n",
       "        vertical-align: middle;\n",
       "    }\n",
       "\n",
       "    .dataframe tbody tr th {\n",
       "        vertical-align: top;\n",
       "    }\n",
       "\n",
       "    .dataframe thead th {\n",
       "        text-align: right;\n",
       "    }\n",
       "</style>\n",
       "<table border=\"1\" class=\"dataframe\">\n",
       "  <thead>\n",
       "    <tr style=\"text-align: right;\">\n",
       "      <th></th>\n",
       "      <th>英雄</th>\n",
       "      <th>主要定位</th>\n",
       "      <th>次要定位</th>\n",
       "      <th>预测定位</th>\n",
       "    </tr>\n",
       "  </thead>\n",
       "  <tbody>\n",
       "    <tr>\n",
       "      <th>0</th>\n",
       "      <td>夏侯惇</td>\n",
       "      <td>坦克</td>\n",
       "      <td>坦克</td>\n",
       "      <td>2</td>\n",
       "    </tr>\n",
       "    <tr>\n",
       "      <th>1</th>\n",
       "      <td>钟无艳</td>\n",
       "      <td>坦克</td>\n",
       "      <td>坦克</td>\n",
       "      <td>2</td>\n",
       "    </tr>\n",
       "    <tr>\n",
       "      <th>2</th>\n",
       "      <td>张飞</td>\n",
       "      <td>坦克</td>\n",
       "      <td>辅助</td>\n",
       "      <td>4</td>\n",
       "    </tr>\n",
       "    <tr>\n",
       "      <th>3</th>\n",
       "      <td>牛魔</td>\n",
       "      <td>坦克</td>\n",
       "      <td>辅助</td>\n",
       "      <td>4</td>\n",
       "    </tr>\n",
       "    <tr>\n",
       "      <th>4</th>\n",
       "      <td>吕布</td>\n",
       "      <td>坦克</td>\n",
       "      <td>坦克</td>\n",
       "      <td>1</td>\n",
       "    </tr>\n",
       "    <tr>\n",
       "      <th>5</th>\n",
       "      <td>亚瑟</td>\n",
       "      <td>坦克</td>\n",
       "      <td>坦克</td>\n",
       "      <td>1</td>\n",
       "    </tr>\n",
       "    <tr>\n",
       "      <th>7</th>\n",
       "      <td>程咬金</td>\n",
       "      <td>坦克</td>\n",
       "      <td>坦克</td>\n",
       "      <td>4</td>\n",
       "    </tr>\n",
       "    <tr>\n",
       "      <th>8</th>\n",
       "      <td>廉颇</td>\n",
       "      <td>坦克</td>\n",
       "      <td>NaN</td>\n",
       "      <td>4</td>\n",
       "    </tr>\n",
       "    <tr>\n",
       "      <th>9</th>\n",
       "      <td>东皇太一</td>\n",
       "      <td>坦克</td>\n",
       "      <td>NaN</td>\n",
       "      <td>2</td>\n",
       "    </tr>\n",
       "    <tr>\n",
       "      <th>12</th>\n",
       "      <td>白起</td>\n",
       "      <td>坦克</td>\n",
       "      <td>NaN</td>\n",
       "      <td>4</td>\n",
       "    </tr>\n",
       "    <tr>\n",
       "      <th>13</th>\n",
       "      <td>雅典娜</td>\n",
       "      <td>坦克</td>\n",
       "      <td>坦克</td>\n",
       "      <td>2</td>\n",
       "    </tr>\n",
       "    <tr>\n",
       "      <th>14</th>\n",
       "      <td>刘邦</td>\n",
       "      <td>坦克</td>\n",
       "      <td>辅助</td>\n",
       "      <td>4</td>\n",
       "    </tr>\n",
       "    <tr>\n",
       "      <th>15</th>\n",
       "      <td>刘禅</td>\n",
       "      <td>坦克</td>\n",
       "      <td>NaN</td>\n",
       "      <td>4</td>\n",
       "    </tr>\n",
       "    <tr>\n",
       "      <th>17</th>\n",
       "      <td>项羽</td>\n",
       "      <td>坦克</td>\n",
       "      <td>NaN</td>\n",
       "      <td>4</td>\n",
       "    </tr>\n",
       "    <tr>\n",
       "      <th>18</th>\n",
       "      <td>关羽</td>\n",
       "      <td>坦克</td>\n",
       "      <td>坦克</td>\n",
       "      <td>1</td>\n",
       "    </tr>\n",
       "    <tr>\n",
       "      <th>30</th>\n",
       "      <td>露娜</td>\n",
       "      <td>坦克</td>\n",
       "      <td>法师</td>\n",
       "      <td>2</td>\n",
       "    </tr>\n",
       "    <tr>\n",
       "      <th>50</th>\n",
       "      <td>花木兰</td>\n",
       "      <td>坦克</td>\n",
       "      <td>刺客</td>\n",
       "      <td>1</td>\n",
       "    </tr>\n",
       "    <tr>\n",
       "      <th>51</th>\n",
       "      <td>赵云</td>\n",
       "      <td>坦克</td>\n",
       "      <td>刺客</td>\n",
       "      <td>2</td>\n",
       "    </tr>\n",
       "    <tr>\n",
       "      <th>55</th>\n",
       "      <td>杨戬</td>\n",
       "      <td>坦克</td>\n",
       "      <td>NaN</td>\n",
       "      <td>2</td>\n",
       "    </tr>\n",
       "    <tr>\n",
       "      <th>56</th>\n",
       "      <td>达摩</td>\n",
       "      <td>坦克</td>\n",
       "      <td>NaN</td>\n",
       "      <td>2</td>\n",
       "    </tr>\n",
       "    <tr>\n",
       "      <th>57</th>\n",
       "      <td>孙悟空</td>\n",
       "      <td>坦克</td>\n",
       "      <td>刺客</td>\n",
       "      <td>2</td>\n",
       "    </tr>\n",
       "    <tr>\n",
       "      <th>58</th>\n",
       "      <td>刘备</td>\n",
       "      <td>坦克</td>\n",
       "      <td>NaN</td>\n",
       "      <td>2</td>\n",
       "    </tr>\n",
       "    <tr>\n",
       "      <th>59</th>\n",
       "      <td>曹操</td>\n",
       "      <td>坦克</td>\n",
       "      <td>NaN</td>\n",
       "      <td>1</td>\n",
       "    </tr>\n",
       "    <tr>\n",
       "      <th>60</th>\n",
       "      <td>典韦</td>\n",
       "      <td>坦克</td>\n",
       "      <td>NaN</td>\n",
       "      <td>2</td>\n",
       "    </tr>\n",
       "    <tr>\n",
       "      <th>61</th>\n",
       "      <td>宫本武藏</td>\n",
       "      <td>坦克</td>\n",
       "      <td>NaN</td>\n",
       "      <td>1</td>\n",
       "    </tr>\n",
       "    <tr>\n",
       "      <th>62</th>\n",
       "      <td>老夫子</td>\n",
       "      <td>坦克</td>\n",
       "      <td>NaN</td>\n",
       "      <td>1</td>\n",
       "    </tr>\n",
       "    <tr>\n",
       "      <th>63</th>\n",
       "      <td>哪吒</td>\n",
       "      <td>坦克</td>\n",
       "      <td>NaN</td>\n",
       "      <td>2</td>\n",
       "    </tr>\n",
       "    <tr>\n",
       "      <th>67</th>\n",
       "      <td>铠</td>\n",
       "      <td>坦克</td>\n",
       "      <td>坦克</td>\n",
       "      <td>2</td>\n",
       "    </tr>\n",
       "  </tbody>\n",
       "</table>\n",
       "</div>"
      ],
      "text/plain": [
       "      英雄 主要定位 次要定位  预测定位\n",
       "0    夏侯惇   坦克   坦克     2\n",
       "1    钟无艳   坦克   坦克     2\n",
       "2     张飞   坦克   辅助     4\n",
       "3     牛魔   坦克   辅助     4\n",
       "4     吕布   坦克   坦克     1\n",
       "5     亚瑟   坦克   坦克     1\n",
       "7    程咬金   坦克   坦克     4\n",
       "8     廉颇   坦克  NaN     4\n",
       "9   东皇太一   坦克  NaN     2\n",
       "12    白起   坦克  NaN     4\n",
       "13   雅典娜   坦克   坦克     2\n",
       "14    刘邦   坦克   辅助     4\n",
       "15    刘禅   坦克  NaN     4\n",
       "17    项羽   坦克  NaN     4\n",
       "18    关羽   坦克   坦克     1\n",
       "30    露娜   坦克   法师     2\n",
       "50   花木兰   坦克   刺客     1\n",
       "51    赵云   坦克   刺客     2\n",
       "55    杨戬   坦克  NaN     2\n",
       "56    达摩   坦克  NaN     2\n",
       "57   孙悟空   坦克   刺客     2\n",
       "58    刘备   坦克  NaN     2\n",
       "59    曹操   坦克  NaN     1\n",
       "60    典韦   坦克  NaN     2\n",
       "61  宫本武藏   坦克  NaN     1\n",
       "62   老夫子   坦克  NaN     1\n",
       "63    哪吒   坦克  NaN     2\n",
       "67     铠   坦克   坦克     2"
      ]
     },
     "execution_count": 25,
     "metadata": {},
     "output_type": "execute_result"
    }
   ],
   "source": [
    "target.loc[target['主要定位']=='坦克', :]"
   ]
  },
  {
   "cell_type": "markdown",
   "metadata": {
    "id": "007BA21459824BB78FBF10584A4F55B2",
    "jupyter": {},
    "mdEditEnable": false,
    "slideshow": {
     "slide_type": "slide"
    },
    "tags": []
   },
   "source": [
    "结合上面的分析，我们可以看出，射手和法师的定位都比较明确，变量特征的特点也较为突出，所以聚类的也较好。但是对于剩下的三个定位，结果较差。可能的原因是对于这三种定位，我们不能只按照他们的这些变量来进行判断，更应该结合他们的技能来进行分析。但是由于我们没有他们技能的相关信息，所以无法分析。\n",
    "因此，我们可以考虑将辅助、坦克和刺客进行合并进行分析，应该能得到较好的聚类结果。"
   ]
  },
  {
   "cell_type": "code",
   "execution_count": null,
   "metadata": {
    "id": "F5910DDB24104FAEB908D1CBD62FC955",
    "jupyter": {},
    "slideshow": {
     "slide_type": "slide"
    },
    "tags": []
   },
   "outputs": [],
   "source": []
  }
 ],
 "metadata": {
  "kernelspec": {
   "display_name": "Python 3 (ipykernel)",
   "language": "python",
   "name": "python3"
  },
  "language_info": {
   "codemirror_mode": {
    "name": "ipython",
    "version": 3
   },
   "file_extension": ".py",
   "mimetype": "text/x-python",
   "name": "python",
   "nbconvert_exporter": "python",
   "pygments_lexer": "ipython3",
   "version": "3.9.7"
  }
 },
 "nbformat": 4,
 "nbformat_minor": 4
}
